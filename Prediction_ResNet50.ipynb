{
  "nbformat": 4,
  "nbformat_minor": 0,
  "metadata": {
    "colab": {
      "name": "Prediction ResNet50.ipynb",
      "provenance": [],
      "authorship_tag": "ABX9TyMby+SyxBccbRoP6LL9AKWv",
      "include_colab_link": true
    },
    "kernelspec": {
      "name": "python3",
      "display_name": "Python 3"
    },
    "language_info": {
      "name": "python"
    }
  },
  "cells": [
    {
      "cell_type": "markdown",
      "metadata": {
        "id": "view-in-github",
        "colab_type": "text"
      },
      "source": [
        "<a href=\"https://colab.research.google.com/github/hhduke2014/marked-beetle-analysis/blob/main/Prediction_ResNet50.ipynb\" target=\"_parent\"><img src=\"https://colab.research.google.com/assets/colab-badge.svg\" alt=\"Open In Colab\"/></a>"
      ]
    },
    {
      "cell_type": "code",
      "metadata": {
        "id": "XnRvdEQVH7yM"
      },
      "source": [
        "import os\n",
        "import glob\n",
        "import shutil\n",
        "import json\n",
        "import keras\n",
        "import itertools\n",
        "import numpy as np\n",
        "import pandas as pd\n",
        "import seaborn as sns\n",
        "import tensorflow as tf\n",
        "from PIL import Image\n",
        "import matplotlib.pyplot as plt\n",
        "from collections import Counter\n",
        "from keras.preprocessing.image import ImageDataGenerator\n",
        "\n",
        "import cv2\n",
        "from sklearn.model_selection import train_test_split"
      ],
      "execution_count": 1,
      "outputs": []
    },
    {
      "cell_type": "code",
      "metadata": {
        "colab": {
          "base_uri": "https://localhost:8080/"
        },
        "id": "Q3d71Bo2ISov",
        "outputId": "6567e779-2f61-406c-8db7-aaff48344c20"
      },
      "source": [
        "from google.colab import drive\n",
        "drive.mount('/content/drive')"
      ],
      "execution_count": 2,
      "outputs": [
        {
          "output_type": "stream",
          "text": [
            "Mounted at /content/drive\n"
          ],
          "name": "stdout"
        }
      ]
    },
    {
      "cell_type": "code",
      "metadata": {
        "id": "io6lBktgIhxh"
      },
      "source": [
        "filenames = os.listdir(\"/content/drive/MyDrive/MarkedBeetleImageAnalysis\")"
      ],
      "execution_count": 3,
      "outputs": []
    },
    {
      "cell_type": "code",
      "metadata": {
        "colab": {
          "base_uri": "https://localhost:8080/"
        },
        "id": "R-1qGiy4Itc3",
        "outputId": "953f4a17-b2ea-47e9-8b1f-72a747620e2d"
      },
      "source": [
        "train_images=[]\n",
        "for filename in filenames:\n",
        "    if 'light' not in filename:\n",
        "      if filename.startswith('Papered') or filename.startswith('NoPapered'):\n",
        "        train_images.append(filename)\n",
        "print(f\"Number of Train images: {len(train_images)}\") #filename.startswith('Pink')"
      ],
      "execution_count": 4,
      "outputs": [
        {
          "output_type": "stream",
          "text": [
            "Number of Train images: 757\n"
          ],
          "name": "stdout"
        }
      ]
    },
    {
      "cell_type": "code",
      "metadata": {
        "colab": {
          "base_uri": "https://localhost:8080/"
        },
        "id": "da3_Ds-4Iwrc",
        "outputId": "67aea31c-1065-46e3-97b3-db86cf68529d"
      },
      "source": [
        "categories = []\n",
        "for filename in train_images:\n",
        "    if filename.startswith('Papered') or filename.startswith('Pink') or filename.startswith('Trap'):\n",
        "        categories.append('marked')\n",
        "    if filename.startswith('NoPapered'):\n",
        "        categories.append('unmarked')\n",
        "len(categories)"
      ],
      "execution_count": 5,
      "outputs": [
        {
          "output_type": "execute_result",
          "data": {
            "text/plain": [
              "757"
            ]
          },
          "metadata": {},
          "execution_count": 5
        }
      ]
    },
    {
      "cell_type": "code",
      "metadata": {
        "colab": {
          "base_uri": "https://localhost:8080/",
          "height": 420
        },
        "id": "NxVAChY_I1TD",
        "outputId": "69576594-6644-4e88-ff02-c83e64f2f28f"
      },
      "source": [
        "df = pd.DataFrame({\n",
        "    'filename': train_images,\n",
        "    'category': categories\n",
        "})\n",
        "df"
      ],
      "execution_count": 6,
      "outputs": [
        {
          "output_type": "execute_result",
          "data": {
            "text/html": [
              "<div>\n",
              "<style scoped>\n",
              "    .dataframe tbody tr th:only-of-type {\n",
              "        vertical-align: middle;\n",
              "    }\n",
              "\n",
              "    .dataframe tbody tr th {\n",
              "        vertical-align: top;\n",
              "    }\n",
              "\n",
              "    .dataframe thead th {\n",
              "        text-align: right;\n",
              "    }\n",
              "</style>\n",
              "<table border=\"1\" class=\"dataframe\">\n",
              "  <thead>\n",
              "    <tr style=\"text-align: right;\">\n",
              "      <th></th>\n",
              "      <th>filename</th>\n",
              "      <th>category</th>\n",
              "    </tr>\n",
              "  </thead>\n",
              "  <tbody>\n",
              "    <tr>\n",
              "      <th>0</th>\n",
              "      <td>PaperedControl20d.tif</td>\n",
              "      <td>marked</td>\n",
              "    </tr>\n",
              "    <tr>\n",
              "      <th>1</th>\n",
              "      <td>PaperedControl21v.tif</td>\n",
              "      <td>marked</td>\n",
              "    </tr>\n",
              "    <tr>\n",
              "      <th>2</th>\n",
              "      <td>PaperedControl21d.tif</td>\n",
              "      <td>marked</td>\n",
              "    </tr>\n",
              "    <tr>\n",
              "      <th>3</th>\n",
              "      <td>PaperedControl22v.tif</td>\n",
              "      <td>marked</td>\n",
              "    </tr>\n",
              "    <tr>\n",
              "      <th>4</th>\n",
              "      <td>PaperedControl22d.tif</td>\n",
              "      <td>marked</td>\n",
              "    </tr>\n",
              "    <tr>\n",
              "      <th>...</th>\n",
              "      <td>...</td>\n",
              "      <td>...</td>\n",
              "    </tr>\n",
              "    <tr>\n",
              "      <th>752</th>\n",
              "      <td>PaperedControl18v.tif</td>\n",
              "      <td>marked</td>\n",
              "    </tr>\n",
              "    <tr>\n",
              "      <th>753</th>\n",
              "      <td>PaperedControl18d.tif</td>\n",
              "      <td>marked</td>\n",
              "    </tr>\n",
              "    <tr>\n",
              "      <th>754</th>\n",
              "      <td>PaperedControl19v.tif</td>\n",
              "      <td>marked</td>\n",
              "    </tr>\n",
              "    <tr>\n",
              "      <th>755</th>\n",
              "      <td>PaperedControl19d.tif</td>\n",
              "      <td>marked</td>\n",
              "    </tr>\n",
              "    <tr>\n",
              "      <th>756</th>\n",
              "      <td>PaperedControl20v.tif</td>\n",
              "      <td>marked</td>\n",
              "    </tr>\n",
              "  </tbody>\n",
              "</table>\n",
              "<p>757 rows × 2 columns</p>\n",
              "</div>"
            ],
            "text/plain": [
              "                  filename category\n",
              "0    PaperedControl20d.tif   marked\n",
              "1    PaperedControl21v.tif   marked\n",
              "2    PaperedControl21d.tif   marked\n",
              "3    PaperedControl22v.tif   marked\n",
              "4    PaperedControl22d.tif   marked\n",
              "..                     ...      ...\n",
              "752  PaperedControl18v.tif   marked\n",
              "753  PaperedControl18d.tif   marked\n",
              "754  PaperedControl19v.tif   marked\n",
              "755  PaperedControl19d.tif   marked\n",
              "756  PaperedControl20v.tif   marked\n",
              "\n",
              "[757 rows x 2 columns]"
            ]
          },
          "metadata": {},
          "execution_count": 6
        }
      ]
    },
    {
      "cell_type": "code",
      "metadata": {
        "id": "XNCv_9vDI4y9"
      },
      "source": [
        "import keras\n",
        "\n",
        "final_model = keras.models.load_model('resnet_model.h5')"
      ],
      "execution_count": 7,
      "outputs": []
    },
    {
      "cell_type": "code",
      "metadata": {
        "colab": {
          "base_uri": "https://localhost:8080/"
        },
        "id": "9mIYX_gwJAJI",
        "outputId": "f5ae9b93-71c8-48eb-bb67-12c85649a669"
      },
      "source": [
        "humanDF = pd.read_csv(\n",
        "    \"/content/drive/MyDrive/HumanClassifier/HumanClassication.csv\"\n",
        ")\n",
        "humanDF.shape"
      ],
      "execution_count": 33,
      "outputs": [
        {
          "output_type": "execute_result",
          "data": {
            "text/plain": [
              "(757, 4)"
            ]
          },
          "metadata": {},
          "execution_count": 33
        }
      ]
    },
    {
      "cell_type": "code",
      "metadata": {
        "colab": {
          "base_uri": "https://localhost:8080/",
          "height": 420
        },
        "id": "WWhGAK-mJf4O",
        "outputId": "29e57c2c-8c4f-43a3-e205-b27db12cfd08"
      },
      "source": [
        "humanDF"
      ],
      "execution_count": 34,
      "outputs": [
        {
          "output_type": "execute_result",
          "data": {
            "text/html": [
              "<div>\n",
              "<style scoped>\n",
              "    .dataframe tbody tr th:only-of-type {\n",
              "        vertical-align: middle;\n",
              "    }\n",
              "\n",
              "    .dataframe tbody tr th {\n",
              "        vertical-align: top;\n",
              "    }\n",
              "\n",
              "    .dataframe thead th {\n",
              "        text-align: right;\n",
              "    }\n",
              "</style>\n",
              "<table border=\"1\" class=\"dataframe\">\n",
              "  <thead>\n",
              "    <tr style=\"text-align: right;\">\n",
              "      <th></th>\n",
              "      <th>name</th>\n",
              "      <th>Class</th>\n",
              "      <th>ext</th>\n",
              "      <th>marked</th>\n",
              "    </tr>\n",
              "  </thead>\n",
              "  <tbody>\n",
              "    <tr>\n",
              "      <th>0</th>\n",
              "      <td>PaperedControl13d.tif</td>\n",
              "      <td>Y</td>\n",
              "      <td>tif</td>\n",
              "      <td>Y</td>\n",
              "    </tr>\n",
              "    <tr>\n",
              "      <th>1</th>\n",
              "      <td>PaperedTransparent105v.tif</td>\n",
              "      <td>N</td>\n",
              "      <td>tif</td>\n",
              "      <td>Y</td>\n",
              "    </tr>\n",
              "    <tr>\n",
              "      <th>2</th>\n",
              "      <td>PaperedTransparent105d.tif</td>\n",
              "      <td>Y</td>\n",
              "      <td>tif</td>\n",
              "      <td>Y</td>\n",
              "    </tr>\n",
              "    <tr>\n",
              "      <th>3</th>\n",
              "      <td>PaperedTransparent104v.tif</td>\n",
              "      <td>Y</td>\n",
              "      <td>tif</td>\n",
              "      <td>Y</td>\n",
              "    </tr>\n",
              "    <tr>\n",
              "      <th>4</th>\n",
              "      <td>PaperedTransparent104d.tif</td>\n",
              "      <td>Y</td>\n",
              "      <td>tif</td>\n",
              "      <td>Y</td>\n",
              "    </tr>\n",
              "    <tr>\n",
              "      <th>...</th>\n",
              "      <td>...</td>\n",
              "      <td>...</td>\n",
              "      <td>...</td>\n",
              "      <td>...</td>\n",
              "    </tr>\n",
              "    <tr>\n",
              "      <th>752</th>\n",
              "      <td>NoPaperedGreen89d.tif</td>\n",
              "      <td>N</td>\n",
              "      <td>tif</td>\n",
              "      <td>N</td>\n",
              "    </tr>\n",
              "    <tr>\n",
              "      <th>753</th>\n",
              "      <td>NoPaperedGreen88v.tif</td>\n",
              "      <td>N</td>\n",
              "      <td>tif</td>\n",
              "      <td>N</td>\n",
              "    </tr>\n",
              "    <tr>\n",
              "      <th>754</th>\n",
              "      <td>NoPaperedGreen88d.tif</td>\n",
              "      <td>N</td>\n",
              "      <td>tif</td>\n",
              "      <td>N</td>\n",
              "    </tr>\n",
              "    <tr>\n",
              "      <th>755</th>\n",
              "      <td>NoPaperedGreen87v.tif</td>\n",
              "      <td>N</td>\n",
              "      <td>tif</td>\n",
              "      <td>N</td>\n",
              "    </tr>\n",
              "    <tr>\n",
              "      <th>756</th>\n",
              "      <td>NoPaperedGreen87d.tif</td>\n",
              "      <td>N</td>\n",
              "      <td>tif</td>\n",
              "      <td>N</td>\n",
              "    </tr>\n",
              "  </tbody>\n",
              "</table>\n",
              "<p>757 rows × 4 columns</p>\n",
              "</div>"
            ],
            "text/plain": [
              "                           name Class  ext marked\n",
              "0         PaperedControl13d.tif     Y  tif      Y\n",
              "1    PaperedTransparent105v.tif     N  tif      Y\n",
              "2    PaperedTransparent105d.tif     Y  tif      Y\n",
              "3    PaperedTransparent104v.tif     Y  tif      Y\n",
              "4    PaperedTransparent104d.tif     Y  tif      Y\n",
              "..                          ...   ...  ...    ...\n",
              "752       NoPaperedGreen89d.tif     N  tif      N\n",
              "753       NoPaperedGreen88v.tif     N  tif      N\n",
              "754       NoPaperedGreen88d.tif     N  tif      N\n",
              "755       NoPaperedGreen87v.tif     N  tif      N\n",
              "756       NoPaperedGreen87d.tif     N  tif      N\n",
              "\n",
              "[757 rows x 4 columns]"
            ]
          },
          "metadata": {},
          "execution_count": 34
        }
      ]
    },
    {
      "cell_type": "code",
      "metadata": {
        "colab": {
          "base_uri": "https://localhost:8080/",
          "height": 204
        },
        "id": "Ot2EuRM7JiuV",
        "outputId": "1e7fa0e2-90ed-4d86-89b8-ad9e3f1cd7a5"
      },
      "source": [
        "humanDF.rename(columns={\"marked\":\"human prediction\"})\n",
        "humanDF.head()"
      ],
      "execution_count": 35,
      "outputs": [
        {
          "output_type": "execute_result",
          "data": {
            "text/html": [
              "<div>\n",
              "<style scoped>\n",
              "    .dataframe tbody tr th:only-of-type {\n",
              "        vertical-align: middle;\n",
              "    }\n",
              "\n",
              "    .dataframe tbody tr th {\n",
              "        vertical-align: top;\n",
              "    }\n",
              "\n",
              "    .dataframe thead th {\n",
              "        text-align: right;\n",
              "    }\n",
              "</style>\n",
              "<table border=\"1\" class=\"dataframe\">\n",
              "  <thead>\n",
              "    <tr style=\"text-align: right;\">\n",
              "      <th></th>\n",
              "      <th>name</th>\n",
              "      <th>Class</th>\n",
              "      <th>ext</th>\n",
              "      <th>marked</th>\n",
              "    </tr>\n",
              "  </thead>\n",
              "  <tbody>\n",
              "    <tr>\n",
              "      <th>0</th>\n",
              "      <td>PaperedControl13d.tif</td>\n",
              "      <td>Y</td>\n",
              "      <td>tif</td>\n",
              "      <td>Y</td>\n",
              "    </tr>\n",
              "    <tr>\n",
              "      <th>1</th>\n",
              "      <td>PaperedTransparent105v.tif</td>\n",
              "      <td>N</td>\n",
              "      <td>tif</td>\n",
              "      <td>Y</td>\n",
              "    </tr>\n",
              "    <tr>\n",
              "      <th>2</th>\n",
              "      <td>PaperedTransparent105d.tif</td>\n",
              "      <td>Y</td>\n",
              "      <td>tif</td>\n",
              "      <td>Y</td>\n",
              "    </tr>\n",
              "    <tr>\n",
              "      <th>3</th>\n",
              "      <td>PaperedTransparent104v.tif</td>\n",
              "      <td>Y</td>\n",
              "      <td>tif</td>\n",
              "      <td>Y</td>\n",
              "    </tr>\n",
              "    <tr>\n",
              "      <th>4</th>\n",
              "      <td>PaperedTransparent104d.tif</td>\n",
              "      <td>Y</td>\n",
              "      <td>tif</td>\n",
              "      <td>Y</td>\n",
              "    </tr>\n",
              "  </tbody>\n",
              "</table>\n",
              "</div>"
            ],
            "text/plain": [
              "                         name Class  ext marked\n",
              "0       PaperedControl13d.tif     Y  tif      Y\n",
              "1  PaperedTransparent105v.tif     N  tif      Y\n",
              "2  PaperedTransparent105d.tif     Y  tif      Y\n",
              "3  PaperedTransparent104v.tif     Y  tif      Y\n",
              "4  PaperedTransparent104d.tif     Y  tif      Y"
            ]
          },
          "metadata": {},
          "execution_count": 35
        }
      ]
    },
    {
      "cell_type": "code",
      "metadata": {
        "colab": {
          "base_uri": "https://localhost:8080/",
          "height": 420
        },
        "id": "K9pcmLvjJ7ln",
        "outputId": "36fc3752-3df7-4ab4-d3a8-8fba26dfe368"
      },
      "source": [
        "humanDF[\"category\"] = humanDF[\"marked\"].replace({'N': 'unmarked', 'Y': 'marked'}) \n",
        "humanDF[\"HumanClassifier\"] = humanDF[\"Class\"].replace({'N': 'unmarked', 'Y': 'marked'}) \n",
        "humanDF"
      ],
      "execution_count": 36,
      "outputs": [
        {
          "output_type": "execute_result",
          "data": {
            "text/html": [
              "<div>\n",
              "<style scoped>\n",
              "    .dataframe tbody tr th:only-of-type {\n",
              "        vertical-align: middle;\n",
              "    }\n",
              "\n",
              "    .dataframe tbody tr th {\n",
              "        vertical-align: top;\n",
              "    }\n",
              "\n",
              "    .dataframe thead th {\n",
              "        text-align: right;\n",
              "    }\n",
              "</style>\n",
              "<table border=\"1\" class=\"dataframe\">\n",
              "  <thead>\n",
              "    <tr style=\"text-align: right;\">\n",
              "      <th></th>\n",
              "      <th>name</th>\n",
              "      <th>Class</th>\n",
              "      <th>ext</th>\n",
              "      <th>marked</th>\n",
              "      <th>category</th>\n",
              "      <th>HumanClassifier</th>\n",
              "    </tr>\n",
              "  </thead>\n",
              "  <tbody>\n",
              "    <tr>\n",
              "      <th>0</th>\n",
              "      <td>PaperedControl13d.tif</td>\n",
              "      <td>Y</td>\n",
              "      <td>tif</td>\n",
              "      <td>Y</td>\n",
              "      <td>marked</td>\n",
              "      <td>marked</td>\n",
              "    </tr>\n",
              "    <tr>\n",
              "      <th>1</th>\n",
              "      <td>PaperedTransparent105v.tif</td>\n",
              "      <td>N</td>\n",
              "      <td>tif</td>\n",
              "      <td>Y</td>\n",
              "      <td>marked</td>\n",
              "      <td>unmarked</td>\n",
              "    </tr>\n",
              "    <tr>\n",
              "      <th>2</th>\n",
              "      <td>PaperedTransparent105d.tif</td>\n",
              "      <td>Y</td>\n",
              "      <td>tif</td>\n",
              "      <td>Y</td>\n",
              "      <td>marked</td>\n",
              "      <td>marked</td>\n",
              "    </tr>\n",
              "    <tr>\n",
              "      <th>3</th>\n",
              "      <td>PaperedTransparent104v.tif</td>\n",
              "      <td>Y</td>\n",
              "      <td>tif</td>\n",
              "      <td>Y</td>\n",
              "      <td>marked</td>\n",
              "      <td>marked</td>\n",
              "    </tr>\n",
              "    <tr>\n",
              "      <th>4</th>\n",
              "      <td>PaperedTransparent104d.tif</td>\n",
              "      <td>Y</td>\n",
              "      <td>tif</td>\n",
              "      <td>Y</td>\n",
              "      <td>marked</td>\n",
              "      <td>marked</td>\n",
              "    </tr>\n",
              "    <tr>\n",
              "      <th>...</th>\n",
              "      <td>...</td>\n",
              "      <td>...</td>\n",
              "      <td>...</td>\n",
              "      <td>...</td>\n",
              "      <td>...</td>\n",
              "      <td>...</td>\n",
              "    </tr>\n",
              "    <tr>\n",
              "      <th>752</th>\n",
              "      <td>NoPaperedGreen89d.tif</td>\n",
              "      <td>N</td>\n",
              "      <td>tif</td>\n",
              "      <td>N</td>\n",
              "      <td>unmarked</td>\n",
              "      <td>unmarked</td>\n",
              "    </tr>\n",
              "    <tr>\n",
              "      <th>753</th>\n",
              "      <td>NoPaperedGreen88v.tif</td>\n",
              "      <td>N</td>\n",
              "      <td>tif</td>\n",
              "      <td>N</td>\n",
              "      <td>unmarked</td>\n",
              "      <td>unmarked</td>\n",
              "    </tr>\n",
              "    <tr>\n",
              "      <th>754</th>\n",
              "      <td>NoPaperedGreen88d.tif</td>\n",
              "      <td>N</td>\n",
              "      <td>tif</td>\n",
              "      <td>N</td>\n",
              "      <td>unmarked</td>\n",
              "      <td>unmarked</td>\n",
              "    </tr>\n",
              "    <tr>\n",
              "      <th>755</th>\n",
              "      <td>NoPaperedGreen87v.tif</td>\n",
              "      <td>N</td>\n",
              "      <td>tif</td>\n",
              "      <td>N</td>\n",
              "      <td>unmarked</td>\n",
              "      <td>unmarked</td>\n",
              "    </tr>\n",
              "    <tr>\n",
              "      <th>756</th>\n",
              "      <td>NoPaperedGreen87d.tif</td>\n",
              "      <td>N</td>\n",
              "      <td>tif</td>\n",
              "      <td>N</td>\n",
              "      <td>unmarked</td>\n",
              "      <td>unmarked</td>\n",
              "    </tr>\n",
              "  </tbody>\n",
              "</table>\n",
              "<p>757 rows × 6 columns</p>\n",
              "</div>"
            ],
            "text/plain": [
              "                           name Class  ext marked  category HumanClassifier\n",
              "0         PaperedControl13d.tif     Y  tif      Y    marked          marked\n",
              "1    PaperedTransparent105v.tif     N  tif      Y    marked        unmarked\n",
              "2    PaperedTransparent105d.tif     Y  tif      Y    marked          marked\n",
              "3    PaperedTransparent104v.tif     Y  tif      Y    marked          marked\n",
              "4    PaperedTransparent104d.tif     Y  tif      Y    marked          marked\n",
              "..                          ...   ...  ...    ...       ...             ...\n",
              "752       NoPaperedGreen89d.tif     N  tif      N  unmarked        unmarked\n",
              "753       NoPaperedGreen88v.tif     N  tif      N  unmarked        unmarked\n",
              "754       NoPaperedGreen88d.tif     N  tif      N  unmarked        unmarked\n",
              "755       NoPaperedGreen87v.tif     N  tif      N  unmarked        unmarked\n",
              "756       NoPaperedGreen87d.tif     N  tif      N  unmarked        unmarked\n",
              "\n",
              "[757 rows x 6 columns]"
            ]
          },
          "metadata": {},
          "execution_count": 36
        }
      ]
    },
    {
      "cell_type": "code",
      "metadata": {
        "id": "m3_YDMcxLNtQ"
      },
      "source": [
        "to_samples = humanDF.shape[0]"
      ],
      "execution_count": 25,
      "outputs": []
    },
    {
      "cell_type": "code",
      "metadata": {
        "colab": {
          "base_uri": "https://localhost:8080/"
        },
        "id": "hJ6SInRcMCxT",
        "outputId": "194cd3ae-d3dc-4847-969b-91a8705f3d59"
      },
      "source": [
        "size=(224,224)\n",
        "BATCH_SIZE=32\n",
        "test_gen = ImageDataGenerator(preprocessing_function = tf.keras.applications.resnet50.preprocess_input,\n",
        "                    #rotation_range = 40,\n",
        "                    #brightness_range = [0.3,0.9],\n",
        "                    #channel_shift_range = 50.0,\n",
        "                    #width_shift_range = 0.2,\n",
        "                    #height_shift_range = 0.2,\n",
        "                    #shear_range = 0.2,\n",
        "                    #zoom_range = 0.2,\n",
        "                    #horizontal_flip = True,\n",
        "                    #vertical_flip = True,\n",
        "                    #fill_mode = 'nearest'\n",
        "                    )\n",
        "test_generator1 = test_gen.flow_from_dataframe(\n",
        "    humanDF, \n",
        "    \"/content/drive/MyDrive/MarkedBeetleImageAnalysis/\", \n",
        "    x_col='name',\n",
        "    y_col=None,\n",
        "    class_mode=None,\n",
        "    target_size=size,\n",
        "    batch_size=BATCH_SIZE,\n",
        "    shuffle=False\n",
        ")"
      ],
      "execution_count": 40,
      "outputs": [
        {
          "output_type": "stream",
          "text": [
            "Found 757 validated image filenames.\n"
          ],
          "name": "stdout"
        }
      ]
    },
    {
      "cell_type": "code",
      "metadata": {
        "id": "1qRwCS0TMNr5"
      },
      "source": [
        "predict = final_model.predict(test_generator1, steps=np.ceil(to_samples/BATCH_SIZE))"
      ],
      "execution_count": 41,
      "outputs": []
    },
    {
      "cell_type": "code",
      "metadata": {
        "colab": {
          "base_uri": "https://localhost:8080/",
          "height": 420
        },
        "id": "waR98LQ3Mi2G",
        "outputId": "964778e9-61a6-49ad-caa6-7db82b4b7700"
      },
      "source": [
        "humanDF['MachineClassifier'] = np.argmax(predict, axis=-1)\n",
        "humanDF[\"MachineClassifier\"] = humanDF[\"MachineClassifier\"].replace({1: 'unmarked', 0: 'marked'}) \n",
        "humanDF"
      ],
      "execution_count": 42,
      "outputs": [
        {
          "output_type": "execute_result",
          "data": {
            "text/html": [
              "<div>\n",
              "<style scoped>\n",
              "    .dataframe tbody tr th:only-of-type {\n",
              "        vertical-align: middle;\n",
              "    }\n",
              "\n",
              "    .dataframe tbody tr th {\n",
              "        vertical-align: top;\n",
              "    }\n",
              "\n",
              "    .dataframe thead th {\n",
              "        text-align: right;\n",
              "    }\n",
              "</style>\n",
              "<table border=\"1\" class=\"dataframe\">\n",
              "  <thead>\n",
              "    <tr style=\"text-align: right;\">\n",
              "      <th></th>\n",
              "      <th>name</th>\n",
              "      <th>Class</th>\n",
              "      <th>ext</th>\n",
              "      <th>marked</th>\n",
              "      <th>category</th>\n",
              "      <th>HumanClassifier</th>\n",
              "      <th>MachineClassifier</th>\n",
              "    </tr>\n",
              "  </thead>\n",
              "  <tbody>\n",
              "    <tr>\n",
              "      <th>0</th>\n",
              "      <td>PaperedControl13d.tif</td>\n",
              "      <td>Y</td>\n",
              "      <td>tif</td>\n",
              "      <td>Y</td>\n",
              "      <td>marked</td>\n",
              "      <td>marked</td>\n",
              "      <td>marked</td>\n",
              "    </tr>\n",
              "    <tr>\n",
              "      <th>1</th>\n",
              "      <td>PaperedTransparent105v.tif</td>\n",
              "      <td>N</td>\n",
              "      <td>tif</td>\n",
              "      <td>Y</td>\n",
              "      <td>marked</td>\n",
              "      <td>unmarked</td>\n",
              "      <td>marked</td>\n",
              "    </tr>\n",
              "    <tr>\n",
              "      <th>2</th>\n",
              "      <td>PaperedTransparent105d.tif</td>\n",
              "      <td>Y</td>\n",
              "      <td>tif</td>\n",
              "      <td>Y</td>\n",
              "      <td>marked</td>\n",
              "      <td>marked</td>\n",
              "      <td>marked</td>\n",
              "    </tr>\n",
              "    <tr>\n",
              "      <th>3</th>\n",
              "      <td>PaperedTransparent104v.tif</td>\n",
              "      <td>Y</td>\n",
              "      <td>tif</td>\n",
              "      <td>Y</td>\n",
              "      <td>marked</td>\n",
              "      <td>marked</td>\n",
              "      <td>marked</td>\n",
              "    </tr>\n",
              "    <tr>\n",
              "      <th>4</th>\n",
              "      <td>PaperedTransparent104d.tif</td>\n",
              "      <td>Y</td>\n",
              "      <td>tif</td>\n",
              "      <td>Y</td>\n",
              "      <td>marked</td>\n",
              "      <td>marked</td>\n",
              "      <td>marked</td>\n",
              "    </tr>\n",
              "    <tr>\n",
              "      <th>...</th>\n",
              "      <td>...</td>\n",
              "      <td>...</td>\n",
              "      <td>...</td>\n",
              "      <td>...</td>\n",
              "      <td>...</td>\n",
              "      <td>...</td>\n",
              "      <td>...</td>\n",
              "    </tr>\n",
              "    <tr>\n",
              "      <th>752</th>\n",
              "      <td>NoPaperedGreen89d.tif</td>\n",
              "      <td>N</td>\n",
              "      <td>tif</td>\n",
              "      <td>N</td>\n",
              "      <td>unmarked</td>\n",
              "      <td>unmarked</td>\n",
              "      <td>unmarked</td>\n",
              "    </tr>\n",
              "    <tr>\n",
              "      <th>753</th>\n",
              "      <td>NoPaperedGreen88v.tif</td>\n",
              "      <td>N</td>\n",
              "      <td>tif</td>\n",
              "      <td>N</td>\n",
              "      <td>unmarked</td>\n",
              "      <td>unmarked</td>\n",
              "      <td>marked</td>\n",
              "    </tr>\n",
              "    <tr>\n",
              "      <th>754</th>\n",
              "      <td>NoPaperedGreen88d.tif</td>\n",
              "      <td>N</td>\n",
              "      <td>tif</td>\n",
              "      <td>N</td>\n",
              "      <td>unmarked</td>\n",
              "      <td>unmarked</td>\n",
              "      <td>unmarked</td>\n",
              "    </tr>\n",
              "    <tr>\n",
              "      <th>755</th>\n",
              "      <td>NoPaperedGreen87v.tif</td>\n",
              "      <td>N</td>\n",
              "      <td>tif</td>\n",
              "      <td>N</td>\n",
              "      <td>unmarked</td>\n",
              "      <td>unmarked</td>\n",
              "      <td>marked</td>\n",
              "    </tr>\n",
              "    <tr>\n",
              "      <th>756</th>\n",
              "      <td>NoPaperedGreen87d.tif</td>\n",
              "      <td>N</td>\n",
              "      <td>tif</td>\n",
              "      <td>N</td>\n",
              "      <td>unmarked</td>\n",
              "      <td>unmarked</td>\n",
              "      <td>unmarked</td>\n",
              "    </tr>\n",
              "  </tbody>\n",
              "</table>\n",
              "<p>757 rows × 7 columns</p>\n",
              "</div>"
            ],
            "text/plain": [
              "                           name Class  ... HumanClassifier MachineClassifier\n",
              "0         PaperedControl13d.tif     Y  ...          marked            marked\n",
              "1    PaperedTransparent105v.tif     N  ...        unmarked            marked\n",
              "2    PaperedTransparent105d.tif     Y  ...          marked            marked\n",
              "3    PaperedTransparent104v.tif     Y  ...          marked            marked\n",
              "4    PaperedTransparent104d.tif     Y  ...          marked            marked\n",
              "..                          ...   ...  ...             ...               ...\n",
              "752       NoPaperedGreen89d.tif     N  ...        unmarked          unmarked\n",
              "753       NoPaperedGreen88v.tif     N  ...        unmarked            marked\n",
              "754       NoPaperedGreen88d.tif     N  ...        unmarked          unmarked\n",
              "755       NoPaperedGreen87v.tif     N  ...        unmarked            marked\n",
              "756       NoPaperedGreen87d.tif     N  ...        unmarked          unmarked\n",
              "\n",
              "[757 rows x 7 columns]"
            ]
          },
          "metadata": {},
          "execution_count": 42
        }
      ]
    },
    {
      "cell_type": "code",
      "metadata": {
        "colab": {
          "base_uri": "https://localhost:8080/",
          "height": 296
        },
        "id": "jCI_GFPcNSSv",
        "outputId": "1913a06a-c1fa-4b45-f4f3-4b2f9d165822"
      },
      "source": [
        "from sklearn.metrics import confusion_matrix, ConfusionMatrixDisplay\n",
        "y_true=list(humanDF['category'])\n",
        "y_pred=list(humanDF['HumanClassifier'])\n",
        "cm=confusion_matrix(y_true, y_pred, labels=[\"marked\", \"unmarked\"])\n",
        "disp = ConfusionMatrixDisplay(confusion_matrix=cm, display_labels=[\"marked\", \"unmarked\"])\n",
        "disp.plot(values_format=\"d\")"
      ],
      "execution_count": 44,
      "outputs": [
        {
          "output_type": "execute_result",
          "data": {
            "text/plain": [
              "<sklearn.metrics._plot.confusion_matrix.ConfusionMatrixDisplay at 0x7f8729be0d10>"
            ]
          },
          "metadata": {},
          "execution_count": 44
        },
        {
          "output_type": "display_data",
          "data": {
            "image/png": "[encoded data removed]",
            "text/plain": [
              "<Figure size 432x288 with 2 Axes>"
            ]
          },
          "metadata": {
            "needs_background": "light"
          }
        }
      ]
    },
    {
      "cell_type": "code",
      "metadata": {
        "colab": {
          "base_uri": "https://localhost:8080/"
        },
        "id": "LAryudw-skJ8",
        "outputId": "7ce54be3-f5b4-47dd-a3bc-e43747e47d97"
      },
      "source": [
        "humanDF['HumanClassifier'].value_counts()"
      ],
      "execution_count": 46,
      "outputs": [
        {
          "output_type": "execute_result",
          "data": {
            "text/plain": [
              "unmarked    412\n",
              "marked      343\n",
              "Name: HumanClassifier, dtype: int64"
            ]
          },
          "metadata": {},
          "execution_count": 46
        }
      ]
    },
    {
      "cell_type": "code",
      "metadata": {
        "colab": {
          "base_uri": "https://localhost:8080/",
          "height": 296
        },
        "id": "VZUqxIGyNrMd",
        "outputId": "f58ad8e7-9484-49e5-92ae-e34c992aced4"
      },
      "source": [
        "from sklearn.metrics import confusion_matrix, ConfusionMatrixDisplay\n",
        "y_true=list(humanDF['category'])\n",
        "y_pred=list(humanDF['MachineClassifier'])\n",
        "cm=confusion_matrix(y_true, y_pred, labels=[\"marked\", \"unmarked\"])\n",
        "disp = ConfusionMatrixDisplay(confusion_matrix=cm, display_labels=[\"marked\", \"unmarked\"])\n",
        "disp.plot(values_format=\"d\")"
      ],
      "execution_count": 43,
      "outputs": [
        {
          "output_type": "execute_result",
          "data": {
            "text/plain": [
              "<sklearn.metrics._plot.confusion_matrix.ConfusionMatrixDisplay at 0x7f8729dc6ad0>"
            ]
          },
          "metadata": {},
          "execution_count": 43
        },
        {
          "output_type": "display_data",
          "data": {
            "image/png": "[encoded data removed]",
            "text/plain": [
              "<Figure size 432x288 with 2 Axes>"
            ]
          },
          "metadata": {
            "needs_background": "light"
          }
        }
      ]
    },
    {
      "cell_type": "code",
      "metadata": {
        "id": "S3BMnia7PZ3v"
      },
      "source": [
        ""
      ],
      "execution_count": null,
      "outputs": []
    }
  ]
}